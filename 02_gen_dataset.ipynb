{
 "cells": [
  {
   "attachments": {},
   "cell_type": "markdown",
   "metadata": {},
   "source": [
    "# Overview\n",
    "1. Normal split\n",
    "   \n",
    "**Import**:\n",
    "   - `sensitivity/DrugSens.csv`\n",
    "\n",
    "**Export**:\n",
    "   - `sensitivity/pivot`\n",
    "   - `sensitivity/stack`"
   ]
  },
  {
   "attachments": {},
   "cell_type": "markdown",
   "metadata": {},
   "source": [
    "# Method"
   ]
  },
  {
   "attachments": {},
   "cell_type": "markdown",
   "metadata": {},
   "source": [
    "Import files"
   ]
  },
  {
   "cell_type": "code",
   "execution_count": 1,
   "metadata": {},
   "outputs": [],
   "source": [
    "import pandas as pd\n",
    "import numpy as np\n",
    "from sklearn.model_selection import train_test_split, StratifiedGroupKFold\n",
    "import pickle as pkl\n",
    "import csv\n",
    "import os\n",
    "import pickle as pkl"
   ]
  },
  {
   "cell_type": "code",
   "execution_count": 2,
   "metadata": {},
   "outputs": [],
   "source": [
    "raw_df = pd.read_csv('datasets/sensitivity/DrugSens.csv', index_col=0)\n",
    "splitter = StratifiedGroupKFold(n_splits=5, random_state=42, shuffle=True)"
   ]
  },
  {
   "cell_type": "code",
   "execution_count": 3,
   "metadata": {},
   "outputs": [
    {
     "name": "stdout",
     "output_type": "stream",
     "text": [
      "      cell_line  count\n",
      "383  ACH-000651    228\n",
      "317  ACH-000552    228\n",
      "15   ACH-000030    228\n",
      "339  ACH-000580    228\n",
      "118  ACH-000219    227\n",
      "..          ...    ...\n",
      "340  ACH-000581    138\n",
      "610  ACH-000999    105\n",
      "438  ACH-000743     88\n",
      "432  ACH-000725     13\n",
      "409  ACH-000689     11\n",
      "\n",
      "[676 rows x 2 columns]\n",
      "          gdsc_name  count\n",
      "121          MG-132    676\n",
      "127         MK-2206    675\n",
      "191   STAUROSPORINE    675\n",
      "1    5-FLUOROURACIL    675\n",
      "151       PD0325901    675\n",
      "..              ...    ...\n",
      "203       TRETINOIN    128\n",
      "188          SL0101    128\n",
      "46            BX795    128\n",
      "51       CHIR-99021    128\n",
      "48       CCT-018159    128\n",
      "\n",
      "[228 rows x 2 columns]\n"
     ]
    }
   ],
   "source": [
    "grouped_df = raw_df.groupby(\"cell_line\").size().reset_index(name='count')\n",
    "sorted_df = grouped_df.sort_values(by='count', ascending=False)\n",
    "print(sorted_df)\n",
    "grouped_df = raw_df.groupby(\"gdsc_name\").size().reset_index(name='count')\n",
    "sorted_df = grouped_df.sort_values(by='count', ascending=False)\n",
    "print(sorted_df)"
   ]
  },
  {
   "cell_type": "code",
   "execution_count": 4,
   "metadata": {},
   "outputs": [
    {
     "name": "stdout",
     "output_type": "stream",
     "text": [
      "                   cancer_type  count\n",
      "13                 Lung Cancer  27243\n",
      "11                    Leukemia  10464\n",
      "3                Breast Cancer   9046\n",
      "5      Colon/Colorectal Cancer   8719\n",
      "14                    Lymphoma   8609\n",
      "2                 Brain Cancer   7444\n",
      "21                 Skin Cancer   7111\n",
      "17              Ovarian Cancer   6656\n",
      "7            Esophageal Cancer   5901\n",
      "18           Pancreatic Cancer   5656\n",
      "8               Gastric Cancer   4609\n",
      "9         Head and Neck Cancer   4244\n",
      "10               Kidney Cancer   3405\n",
      "1                  Bone Cancer   3366\n",
      "16               Neuroblastoma   3242\n",
      "0               Bladder Cancer   3240\n",
      "15                     Myeloma   3123\n",
      "6   Endometrial/Uterine Cancer   2900\n",
      "12                Liver Cancer   2754\n",
      "20                     Sarcoma   2311\n",
      "4              Cervical Cancer   2299\n",
      "22              Thyroid Cancer   2290\n",
      "19             Prostate Cancer   1238\n"
     ]
    }
   ],
   "source": [
    "grouped_df = raw_df.groupby(\"cancer_type\").size().reset_index(name='count')\n",
    "sorted_df = grouped_df.sort_values(by='count', ascending=False)\n",
    "print(sorted_df)"
   ]
  },
  {
   "cell_type": "code",
   "execution_count": 5,
   "metadata": {},
   "outputs": [
    {
     "name": "stdout",
     "output_type": "stream",
     "text": [
      "cancer_type\n",
      "Bladder Cancer                 16\n",
      "Bone Cancer                    16\n",
      "Brain Cancer                   37\n",
      "Breast Cancer                  45\n",
      "Cervical Cancer                11\n",
      "Colon/Colorectal Cancer        42\n",
      "Endometrial/Uterine Cancer     14\n",
      "Esophageal Cancer              29\n",
      "Gastric Cancer                 23\n",
      "Head and Neck Cancer           21\n",
      "Kidney Cancer                  17\n",
      "Leukemia                       53\n",
      "Liver Cancer                   13\n",
      "Lung Cancer                   137\n",
      "Lymphoma                       43\n",
      "Myeloma                        15\n",
      "Neuroblastoma                  17\n",
      "Ovarian Cancer                 34\n",
      "Pancreatic Cancer              28\n",
      "Prostate Cancer                 6\n",
      "Sarcoma                        12\n",
      "Skin Cancer                    36\n",
      "Thyroid Cancer                 11\n",
      "Name: cell_line, dtype: int64\n"
     ]
    }
   ],
   "source": [
    "grouped_df = raw_df.groupby(\"cancer_type\")['cell_line'].nunique()\n",
    "print(grouped_df)"
   ]
  },
  {
   "cell_type": "code",
   "execution_count": 8,
   "metadata": {},
   "outputs": [],
   "source": [
    "def save_drugsens(df_regr: pd.DataFrame, filename: str):\n",
    "    if filename[-4:] != '.csv':\n",
    "        filename += '.csv'\n",
    "    df_regr.sort_values(by=['gdsc_name','cell_line'], inplace=True)\n",
    "    df_regr_pivotted = df_regr.pivot(index = 'gdsc_name', columns = 'cell_line', values = 'IC50')\n",
    "    df_regr_pivotted.columns.name = ''\n",
    "    df_regr_pivotted.index.name = 'drug_name'\n",
    "\n",
    "    df_clas = df_regr.copy()\n",
    "    df_clas[\"IC50\"] = df_clas[\"IC50\"].apply(lambda x: 1 if x >= -1 else 0)\n",
    "    df_clas_pivotted = df_clas.pivot(index = 'gdsc_name', columns = 'cell_line', values = 'IC50')\n",
    "    df_clas_pivotted.columns.name = ''\n",
    "    df_clas_pivotted.index.name = 'drug_name'\n",
    "    \n",
    "    df_regr.to_csv('datasets/sensitivity/stack/regr/' + filename, index=False)\n",
    "    df_clas.to_csv('datasets/sensitivity/stack/clas/' + filename, index=False)\n",
    "\n",
    "    df_regr_pivotted.to_csv('datasets/sensitivity/pivot/regr/' + filename)\n",
    "    df_clas_pivotted.to_csv('datasets/sensitivity/pivot/clas/' + filename)"
   ]
  },
  {
   "attachments": {},
   "cell_type": "markdown",
   "metadata": {},
   "source": [
    "## Normal split"
   ]
  },
  {
   "cell_type": "code",
   "execution_count": 9,
   "metadata": {},
   "outputs": [
    {
     "name": "stdout",
     "output_type": "stream",
     "text": [
      "0 0.19948413718333877 0.017325762148525364 0.23908918406072105 0.1328125\n",
      "54 0.19916546067327226 0.017832266148282833 0.2734375 0.12727272727272726\n",
      "108 0.19934855586746 0.01826111579680017 0.24096385542168675 0.140625\n",
      "162 0.20039337059422435 0.01935192847685036 0.2891566265060241 0.13253012048192772\n",
      "216 0.19977591086669988 0.016446427448335858 0.25946969696969696 0.15625\n",
      "270 0.199571644944076 0.01668869400371568 0.25 0.13855421686746988\n",
      "324 0.20012954410167327 0.01706191649244701 0.2578125 0.15060240963855423\n",
      "378 0.20040122682676728 0.017282731243662097 0.2734375 0.15625\n",
      "432 0.19965416122188495 0.017151425329443425 0.28125 0.140625\n",
      "486 0.19964943028008053 0.018072640369610905 0.25301204819277107 0.15625\n",
      "540 0.19941705691958567 0.01793156440156358 0.26370757180156656 0.125\n",
      "594 0.20031663722582874 0.01842285080620973 0.2734375 0.14736842105263157\n",
      "648 0.19972403398915392 0.017440192683041783 0.25301204819277107 0.1484375\n",
      "702 0.20022898407059278 0.018451128107192852 0.2578125 0.14457831325301204\n",
      "756 0.19956500097421956 0.01658655240772317 0.24600638977635783 0.14689265536723164\n",
      "810 0.1996251180966354 0.01716985485706117 0.24251497005988024 0.12345679012345678\n",
      "864 0.19974413951167597 0.018506421211394945 0.24548192771084337 0.140625\n",
      "918 0.20027805427540932 0.017434393601713307 0.26506024096385544 0.1536\n",
      "972 0.19966393430892823 0.01785228337074087 0.265625 0.14545454545454545\n",
      "1026 0.20012851749630295 0.015190564707855826 0.23482428115015974 0.16261398176291794\n",
      "1080 0.19983296013901347 0.016554995067222557 0.24477611940298508 0.1554559043348281\n",
      "1134 0.19969238136955872 0.01846431742174515 0.2578125 0.1419753086419753\n",
      "1188 0.19993743422617738 0.01813642603541011 0.25443786982248523 0.15213358070500926\n",
      "1242 0.20016091652508658 0.01650462438869493 0.25 0.1484375\n",
      "1296 0.19937607393190648 0.01679477147458893 0.25301204819277107 0.125\n",
      "1350 0.20028399753511703 0.017786476577944126 0.2578125 0.14559386973180077\n",
      "1404 0.20032731367983583 0.01644823106496809 0.25 0.14457831325301204\n",
      "1458 0.20041016688093455 0.01731313930362579 0.24398073836276082 0.15269461077844312\n",
      "1512 0.20072884475172692 0.018522244597653458 0.3125 0.1571969696969697\n",
      "1566 0.19973160209396293 0.016783598869241242 0.26300148588410105 0.1393939393939394\n",
      "1620 0.2002963056011167 0.017065547255764032 0.25 0.1171875\n",
      "1674 0.20016072236435392 0.018090612100256212 0.2890625 0.140625\n",
      "1728 0.20014045497462113 0.016454206920906714 0.25636363636363635 0.1553398058252427\n",
      "1782 0.20023008608743784 0.016970130794023975 0.24600638977635783 0.1509433962264151\n",
      "1836 0.19989989332240685 0.016860609429885726 0.24621212121212122 0.1484375\n",
      "1890 0.19914336801338578 0.016062524723057088 0.24175824175824176 0.140625\n",
      "1944 0.2003642914727623 0.017448024853111366 0.23961661341853036 0.13925925925925925\n",
      "1998 0.19946579439075032 0.016253924846149643 0.25301204819277107 0.140625\n"
     ]
    }
   ],
   "source": [
    "for seed in range(0,2000, 54):\n",
    "    train_df, test_df = train_test_split(raw_df,test_size=0.20, random_state=seed, stratify=raw_df['cell_line'])\n",
    "    train_counts = train_df.groupby(\"gdsc_name\").size().reset_index(name='count').sort_values(by='gdsc_name', ascending=True)\n",
    "    test_counts = test_df.groupby(\"gdsc_name\").size().reset_index(name='count').sort_values(by='gdsc_name', ascending=True)\n",
    "    all_counts = raw_df.groupby(\"gdsc_name\").size().reset_index(name='count').sort_values(by='gdsc_name', ascending=True)\n",
    "    all_counts[\"test_count\"] = test_counts[\"count\"]\n",
    "\n",
    "    all_counts[\"ratio\"] = all_counts[\"test_count\"] / all_counts[\"count\"]\n",
    "    all_counts.loc[all_counts['ratio'] == all_counts['ratio'].max()]\n",
    "    print(seed, all_counts['ratio'].mean(), all_counts['ratio'].std(), all_counts['ratio'].max(), all_counts['ratio'].min())"
   ]
  },
  {
   "cell_type": "code",
   "execution_count": 10,
   "metadata": {},
   "outputs": [
    {
     "data": {
      "text/plain": [
       "(np.float64(0.19999925434527918), np.float64(0.00231922890842857))"
      ]
     },
     "execution_count": 10,
     "metadata": {},
     "output_type": "execute_result"
    }
   ],
   "source": [
    "train_df, test_df = train_test_split(raw_df,test_size=0.20, random_state=50, stratify=raw_df['cell_line'])\n",
    "\n",
    "train_counts = train_df.groupby(\"cell_line\").size().reset_index(name='count').sort_values(by='cell_line', ascending=True)\n",
    "test_counts = test_df.groupby(\"cell_line\").size().reset_index(name='count').sort_values(by='cell_line', ascending=True)\n",
    "all_counts = raw_df.groupby(\"cell_line\").size().reset_index(name='count').sort_values(by='cell_line', ascending=True)\n",
    "all_counts[\"test_count\"] = test_counts[\"count\"]\n",
    "\n",
    "all_counts[\"ratio\"] = all_counts[\"test_count\"] / all_counts[\"count\"]\n",
    "all_counts.loc[all_counts['ratio'] == all_counts['ratio'].max()]\n",
    "all_counts['ratio'].mean(), all_counts['ratio'].std()"
   ]
  },
  {
   "cell_type": "code",
   "execution_count": 11,
   "metadata": {},
   "outputs": [
    {
     "name": "stdout",
     "output_type": "stream",
     "text": [
      "== Normal split summary ==\n",
      "Number of drugs on train set: 228\n",
      "Number of drugs on test set: 228\n",
      "Number of cell lines on train set: 676\n",
      "Number of cell lines on test set: 676\n",
      "Number of samples on train set: 108696\n",
      "Number of samples on test set: 27174\n"
     ]
    }
   ],
   "source": [
    "print(\"== Normal split summary ==\")\n",
    "print(\"Number of drugs on train set:\", train_df['gdsc_name'].nunique())\n",
    "print(\"Number of drugs on test set:\", test_df['gdsc_name'].nunique())\n",
    "\n",
    "print(\"Number of cell lines on train set:\", train_df['cell_line'].nunique())\n",
    "print(\"Number of cell lines on test set:\", test_df['cell_line'].nunique())\n",
    "print(\"Number of samples on train set:\", len(train_df))\n",
    "print(\"Number of samples on test set:\", len(test_df))"
   ]
  },
  {
   "cell_type": "code",
   "execution_count": 12,
   "metadata": {},
   "outputs": [
    {
     "data": {
      "text/plain": [
       "(np.float64(0.20000503297255207), np.float64(0.0030310613902500756))"
      ]
     },
     "execution_count": 12,
     "metadata": {},
     "output_type": "execute_result"
    }
   ],
   "source": [
    "tvhyper_df, tvhyper_subsampling_df = train_test_split(train_df,test_size=0.50, random_state=50, stratify=train_df['cell_line'])\n",
    "trainhyper_subsampling_df, validhyper_subsampling_df = train_test_split(tvhyper_subsampling_df,test_size=0.20, random_state=50, stratify=tvhyper_subsampling_df['cell_line'])\n",
    "train_counts = trainhyper_subsampling_df.groupby(\"cell_line\").size().reset_index(name='count').sort_values(by='cell_line', ascending=True)\n",
    "test_counts = validhyper_subsampling_df.groupby(\"cell_line\").size().reset_index(name='count').sort_values(by='cell_line', ascending=True)\n",
    "all_counts = tvhyper_subsampling_df.groupby(\"cell_line\").size().reset_index(name='count').sort_values(by='cell_line', ascending=True)\n",
    "all_counts[\"test_count\"] = test_counts[\"count\"]\n",
    "\n",
    "all_counts[\"ratio\"] = all_counts[\"test_count\"] / all_counts[\"count\"]\n",
    "all_counts.loc[all_counts['ratio'] == all_counts['ratio'].max()]\n",
    "all_counts['ratio'].mean(), all_counts['ratio'].std()"
   ]
  },
  {
   "cell_type": "markdown",
   "metadata": {},
   "source": [
    "### Export"
   ]
  },
  {
   "cell_type": "code",
   "execution_count": null,
   "metadata": {},
   "outputs": [],
   "source": [
    "os.makedirs('datasets/sensitivity/stack/regr/', exist_ok=True)\n",
    "os.makedirs('datasets/sensitivity/stack/clas/', exist_ok=True)\n",
    "os.makedirs('datasets/sensitivity/pivot/regr/', exist_ok=True)\n",
    "os.makedirs('datasets/sensitivity/pivot/clas/', exist_ok=True)\n",
    "\n",
    "save_drugsens(train_df,'DrugSens-Train.csv')\n",
    "save_drugsens(test_df,'DrugSens-Test.csv')\n",
    "save_drugsens(trainhyper_subsampling_df,'DrugSens-Trainhyper-Subsampling.csv')\n",
    "save_drugsens(validhyper_subsampling_df,'DrugSens-Validhyper-Subsampling.csv')"
   ]
  },
  {
   "cell_type": "code",
   "execution_count": null,
   "metadata": {},
   "outputs": [],
   "source": []
  }
 ],
 "metadata": {
  "kernelspec": {
   "display_name": "drug_env",
   "language": "python",
   "name": "python3"
  },
  "language_info": {
   "codemirror_mode": {
    "name": "ipython",
    "version": 3
   },
   "file_extension": ".py",
   "mimetype": "text/x-python",
   "name": "python",
   "nbconvert_exporter": "python",
   "pygments_lexer": "ipython3",
   "version": "3.10.13"
  },
  "orig_nbformat": 4
 },
 "nbformat": 4,
 "nbformat_minor": 2
}
